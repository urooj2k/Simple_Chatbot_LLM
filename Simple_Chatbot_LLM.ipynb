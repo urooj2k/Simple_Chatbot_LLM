{
  "cells": [
    {
      "cell_type": "code",
      "execution_count": null,
      "metadata": {
        "id": "jzoTS4cGpLxz"
      },
      "outputs": [],
      "source": [
        "import os\n",
        "import streamlit as st\n",
        "from langchain.text_splitter import CharacterTextSplitter\n",
        "from langchain.embeddings import HuggingFaceEmbeddings\n",
        "from langchain.vectorstores import Chroma\n",
        "from langchain.chains import RetrievalQA\n",
        "from langchain.llms import HuggingFaceHub\n",
        "\n",
        "# Load API key\n",
        "HUGGINGFACEHUB_API_KEY = os.getenv(\"HUGGINGFACEHUB_API_TOKEN\")\n",
        "\n",
        "# Example text\n",
        "text = \"\"\"\n",
        "LangChain is a framework for developing applications powered by large language models (LLMs).\n",
        "It helps with chaining together prompts, models, and data sources.\"\"\"\n",
        "\n",
        "# Split text\n",
        "text_splitter = CharacterTextSplitter(chunk_size=500, chunk_overlap=50)\n",
        "docs = text_splitter.create_documents([text])\n",
        "\n",
        "# Create embeddings & vector DB\n",
        "embeddings = HuggingFaceEmbeddings()\n",
        "docsearch = Chroma.from_documents(docs, embeddings)\n",
        "\n",
        "# Load LLM\n",
        "llm = HuggingFaceHub(\n",
        "    repo_id=\"google/flan-t5-base\",\n",
        "    huggingfacehub_api_token=HUGGINGFACEHUB_API_KEY\n",
        ")\n",
        "\n",
        "# Build RetrievalQA\n",
        "qa = RetrievalQA.from_chain_type(\n",
        "    llm=llm,\n",
        "    retriever=docsearch.as_retriever(),\n",
        "    return_source_documents=True\n",
        ")\n",
        "\n",
        "# Streamlit UI\n",
        "st.header(\"Simple Q/A Bot\")\n",
        "\n",
        "user_question = st.text_input(\"Ask a question:\")\n",
        "\n",
        "if user_question:\n",
        "    result = qa({\"query\": user_question})\n",
        "    st.write(\"Answer:\")\n",
        "    st.write(result[\"result\"])\n",
        "\n",
        "    with st.sidebar:\n",
        "        st.subheader(\"Retrieved Context\")\n",
        "        for doc in result[\"source_documents\"]:\n",
        "            st.write(doc.page_content[:300])\n"
      ]
    }
  ],
  "metadata": {
    "colab": {
      "name": "Welcome To Colab",
      "provenance": [],
      "toc_visible": true
    },
    "kernelspec": {
      "display_name": "Python 3",
      "name": "python3"
    }
  },
  "nbformat": 4,
  "nbformat_minor": 0
}
